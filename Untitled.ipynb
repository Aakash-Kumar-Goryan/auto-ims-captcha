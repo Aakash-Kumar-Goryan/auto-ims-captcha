{
 "cells": [
  {
   "cell_type": "code",
   "execution_count": 1,
   "metadata": {},
   "outputs": [],
   "source": [
    "import time\n",
    "import cv2\n",
    "import numpy as np"
   ]
  },
  {
   "cell_type": "code",
   "execution_count": 2,
   "metadata": {},
   "outputs": [
    {
     "data": {
      "text/plain": [
       "SVC(C=1.0, break_ties=False, cache_size=200, class_weight=None, coef0=0.0,\n",
       "    decision_function_shape='ovr', degree=3, gamma=0.001, kernel='rbf',\n",
       "    max_iter=-1, probability=False, random_state=None, shrinking=True,\n",
       "    tol=0.001, verbose=False)"
      ]
     },
     "execution_count": 2,
     "metadata": {},
     "output_type": "execute_result"
    }
   ],
   "source": [
    "from sklearn import datasets, svm, metrics\n",
    "from sklearn.model_selection import train_test_split\n",
    "from sklearn.metrics import accuracy_score\n",
    "\n",
    "# The digits dataset\n",
    "digits = datasets.load_digits()\n",
    "\n",
    "# Create a classifier: a support vector classifier\n",
    "clf = svm.SVC(gamma=0.001)\n",
    "\n",
    "# Split data into train and test subsets\n",
    "X_train, X_test, y_train, y_test = train_test_split(\n",
    "    digits.data, digits.target, test_size=0.5, shuffle=False)\n",
    "\n",
    "# We learn the digits on the first half of the digits\n",
    "clf.fit(X_train, y_train)\n"
   ]
  },
  {
   "cell_type": "code",
   "execution_count": 3,
   "metadata": {},
   "outputs": [],
   "source": [
    "img = cv2.imread(\"p.jpg\")\n",
    "resize = np.copy(img)\n",
    "resize = cv2.resize(img, (400,200))\n",
    "# gray = img\n",
    "gray = cv2.cvtColor(resize,cv2.COLOR_BGR2GRAY)\n"
   ]
  },
  {
   "cell_type": "code",
   "execution_count": 4,
   "metadata": {},
   "outputs": [],
   "source": [
    "retval,thresh = cv2.threshold(gray, 5, 255, cv2.THRESH_BINARY_INV)\n",
    "cv2.imshow(\"resize\", resize)\n",
    "cv2.waitKey(1000)\n",
    "cv2.destroyWindow(\"resize\")\n",
    "cv2.imshow(\"thresh\", thresh)\n",
    "cv2.waitKey(1000)\n",
    "# cv2.destroyWindow(\"thresh\")\n",
    "kernel = np.ones((2,2),np.uint8)\n",
    "erode = cv2.erode(thresh,kernel,iterations = 2)\n",
    "cv2.imshow(\"erode\", erode)\n",
    "cv2.waitKey(1000)\n",
    "# cv2.destroyWindow(\"erode\")\n",
    "\n",
    "time.sleep(1)\n",
    "cv2.destroyAllWindows()"
   ]
  },
  {
   "cell_type": "code",
   "execution_count": 5,
   "metadata": {},
   "outputs": [],
   "source": [
    "# Finding a good threshold value\n",
    "def findContours(img):\n",
    "    for x in range(5,40):\n",
    "        print(x, end=\" \")\n",
    "        imgnew = img\n",
    "        retval,imgnew = cv2.threshold(img, x, 255, cv2.THRESH_BINARY)\n",
    "        imgnew = cv2.putText(imgnew,str(x),(40,40),1,1,cv2.LINE_AA)\n",
    "        cv2.imshow(\"a\", imgnew)\n",
    "        cv2.waitKey(1)\n",
    "        time.sleep(0.2)\n",
    "    cv2.destroyAllWindows()\n",
    "    \n",
    "# findContours(resize)\n",
    "\n",
    "  "
   ]
  },
  {
   "cell_type": "code",
   "execution_count": 6,
   "metadata": {},
   "outputs": [
    {
     "data": {
      "text/plain": [
       "-1"
      ]
     },
     "execution_count": 6,
     "metadata": {},
     "output_type": "execute_result"
    }
   ],
   "source": [
    "# blur = cv2.GaussianBlur(thresh, (5, 5), 0)\n",
    "# hsv = cv2.cvtColor(blur, cv2.COLOR_RGB2HSV)\n",
    "\n",
    "# lower_blue = np.array([38, 86, 0])\n",
    "# upper_blue = np.array([121, 255, 255])\n",
    "# mask = cv2.inRange(hsv, lower_blue, upper_blue)\n",
    "\n",
    "cv2.imshow(\"img\", resize)\n",
    "cv2.waitKey(1)\n",
    "# cv2.destroyAllWindows()"
   ]
  },
  {
   "cell_type": "code",
   "execution_count": 10,
   "metadata": {},
   "outputs": [
    {
     "name": "stdout",
     "output_type": "stream",
     "text": [
      "52 99\n",
      "47 97\n",
      "[(226, 81, 52, 99), (82, 60, 47, 97)]\n",
      "(8, 8)\n",
      "[1]\n",
      "(8, 8)\n",
      "[1]\n"
     ]
    }
   ],
   "source": [
    "contourImg = np.copy(thresh)\n",
    "_, contours, _ = cv2.findContours(thresh, cv2.RETR_TREE, cv2.CHAIN_APPROX_NONE)\n",
    "\n",
    "goodContours = []\n",
    "\n",
    "for c in contours:\n",
    "    rect = cv2.boundingRect(c)\n",
    "    area = cv2.contourArea(c)\n",
    "    if(area < 1000 or area > 5000): \n",
    "        continue\n",
    "    goodContours.append(c)\n",
    "    \n",
    "rects = []\n",
    "    \n",
    "for c in goodContours:\n",
    "    rect = cv2.boundingRect(c)\n",
    "    area = cv2.contourArea(c)\n",
    "    x,y,w,h = rect\n",
    "    print(w,h)\n",
    "    if(w > 60):\n",
    "        x2 = x + int(w/2)\n",
    "        rects.append((x2,y,int(w/2),h))\n",
    "        rects.append((x,y,int(w/2),h))\n",
    "    else:\n",
    "        rects.append((x,y,w,h))\n",
    "    \n",
    "print(rects)\n",
    "rects = sorted(rects)\n",
    "\n",
    "\n",
    "\n",
    "for (x,y,w,h) in rects:\n",
    "#     Draw rectangle around contours found\n",
    "#     cv2.rectangle(contourImg,(x,y),(x+w,y+h),(0,255,0),2)\n",
    "    \n",
    "#     Draw the contours on image\n",
    "#     cv2.drawContours(contourImg, c, -1, (0, 255, 0), 1)\n",
    "    \n",
    "#     Region of Interest\n",
    "    roi = contourImg[y:y+h,x:x+w]\n",
    "    roi = cv2.resize(roi, (8,8))\n",
    "    print(roi.shape)\n",
    "#     pred = clf.predict(np.reshape(roi,(1,64)))\n",
    "    print(pred)\n",
    "#     print(roi)\n",
    "    cv2.imshow(\"roi\", roi)\n",
    "#     cv2.imshow(\"roid\", roid)\n",
    "    cv2.waitKey(1)\n",
    "    time.sleep(1)\n",
    "        \n",
    "cv2.imshow(\"a\", contourImg)\n",
    "cv2.waitKey(1)\n",
    "cv2.destroyAllWindows()"
   ]
  },
  {
   "cell_type": "code",
   "execution_count": 8,
   "metadata": {},
   "outputs": [],
   "source": [
    "cv2.imshow(\"a\", resize)\n",
    "cv2.waitKey(1)\n",
    "cv2.destroyAllWindows()"
   ]
  },
  {
   "cell_type": "code",
   "execution_count": null,
   "metadata": {},
   "outputs": [],
   "source": []
  },
  {
   "cell_type": "code",
   "execution_count": 9,
   "metadata": {},
   "outputs": [
    {
     "name": "stdout",
     "output_type": "stream",
     "text": [
      "4\n"
     ]
    }
   ],
   "source": [
    "i = 100\n",
    "timg = np.reshape(X_test[i],(8,8))\n",
    "timg = cv2.resize(timg, (64,64))\n",
    "cv2.imshow(\"a\",timg)\n",
    "print(y_test[i])\n",
    "cv2.waitKey(3000)\n",
    "cv2.destroyAllWindows()"
   ]
  }
 ],
 "metadata": {
  "kernelspec": {
   "display_name": "Python 3",
   "language": "python",
   "name": "python3"
  },
  "language_info": {
   "codemirror_mode": {
    "name": "ipython",
    "version": 3
   },
   "file_extension": ".py",
   "mimetype": "text/x-python",
   "name": "python",
   "nbconvert_exporter": "python",
   "pygments_lexer": "ipython3",
   "version": "3.6.9"
  }
 },
 "nbformat": 4,
 "nbformat_minor": 2
}
