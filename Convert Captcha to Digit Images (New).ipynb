{
 "cells": [
  {
   "cell_type": "code",
   "execution_count": 1,
   "metadata": {},
   "outputs": [],
   "source": [
    "import pandas as pd\n",
    "import numpy as np\n",
    "import os\n",
    "import cv2\n",
    "import pathlib\n",
    "import time\n",
    "import shutil"
   ]
  },
  {
   "cell_type": "code",
   "execution_count": 2,
   "metadata": {},
   "outputs": [],
   "source": [
    "from processimage import processImage"
   ]
  },
  {
   "cell_type": "code",
   "execution_count": 3,
   "metadata": {},
   "outputs": [],
   "source": [
    "CAPTCHA_DIR=\"data\\data-new\"\n",
    "DIGITS_DIR=\"data\\captcha-digits\""
   ]
  },
  {
   "cell_type": "code",
   "execution_count": 4,
   "metadata": {},
   "outputs": [
    {
     "data": {
      "text/html": [
       "<div>\n",
       "<style scoped>\n",
       "    .dataframe tbody tr th:only-of-type {\n",
       "        vertical-align: middle;\n",
       "    }\n",
       "\n",
       "    .dataframe tbody tr th {\n",
       "        vertical-align: top;\n",
       "    }\n",
       "\n",
       "    .dataframe thead th {\n",
       "        text-align: right;\n",
       "    }\n",
       "</style>\n",
       "<table border=\"1\" class=\"dataframe\">\n",
       "  <thead>\n",
       "    <tr style=\"text-align: right;\">\n",
       "      <th></th>\n",
       "      <th>image_names</th>\n",
       "      <th>value</th>\n",
       "    </tr>\n",
       "  </thead>\n",
       "  <tbody>\n",
       "    <tr>\n",
       "      <th>0</th>\n",
       "      <td>captcha_1577908237.jpg</td>\n",
       "      <td>70960</td>\n",
       "    </tr>\n",
       "    <tr>\n",
       "      <th>1</th>\n",
       "      <td>captcha_1577910073.jpg</td>\n",
       "      <td>59988</td>\n",
       "    </tr>\n",
       "    <tr>\n",
       "      <th>2</th>\n",
       "      <td>captcha_1577910078.jpg</td>\n",
       "      <td>33530</td>\n",
       "    </tr>\n",
       "    <tr>\n",
       "      <th>3</th>\n",
       "      <td>captcha_1577910079.jpg</td>\n",
       "      <td>25808</td>\n",
       "    </tr>\n",
       "    <tr>\n",
       "      <th>4</th>\n",
       "      <td>captcha_1577910082.jpg</td>\n",
       "      <td>77085</td>\n",
       "    </tr>\n",
       "  </tbody>\n",
       "</table>\n",
       "</div>"
      ],
      "text/plain": [
       "              image_names  value\n",
       "0  captcha_1577908237.jpg  70960\n",
       "1  captcha_1577910073.jpg  59988\n",
       "2  captcha_1577910078.jpg  33530\n",
       "3  captcha_1577910079.jpg  25808\n",
       "4  captcha_1577910082.jpg  77085"
      ]
     },
     "execution_count": 4,
     "metadata": {},
     "output_type": "execute_result"
    }
   ],
   "source": [
    "data = pd.read_csv(\"CAP01.csv\",dtype={'value': object})\n",
    "data.head()"
   ]
  },
  {
   "cell_type": "code",
   "execution_count": 7,
   "metadata": {},
   "outputs": [
    {
     "data": {
      "text/plain": [
       "(1092, (1092,), (1092,))"
      ]
     },
     "execution_count": 7,
     "metadata": {},
     "output_type": "execute_result"
    }
   ],
   "source": [
    "x = data.iloc[:,0].to_numpy()\n",
    "y = data.iloc[:,1].to_numpy()\n",
    "n = data.shape[0]\n",
    "(n,x.shape,y.shape)"
   ]
  },
  {
   "cell_type": "code",
   "execution_count": 35,
   "metadata": {},
   "outputs": [
    {
     "name": "stdout",
     "output_type": "stream",
     "text": [
      "directory deleted\n"
     ]
    }
   ],
   "source": [
    "currentDir = os.getcwd()\n",
    "digitPath = os.path.join(currentDir, DIGITS_DIR)\n",
    "# Remove DIGITS_DIR if exists\n",
    "if os.path.exists(digitPath):\n",
    "    shutil.rmtree(digitPath, ignore_errors=False, onerror=None)\n",
    "    print('directory deleted')\n",
    "else:\n",
    "    print('directory already doest exist')"
   ]
  },
  {
   "cell_type": "code",
   "execution_count": 36,
   "metadata": {},
   "outputs": [],
   "source": [
    "# Make Folders for captcha digit images\n",
    "if not os.path.exists(digitPath):\n",
    "    os.makedirs(digitPath)\n",
    "\n",
    "# Make folders for each digit \n",
    "for i in range(10):\n",
    "    digitfolderpath = os.path.join(DIGITS_DIR, str(i))\n",
    "    if not os.path.exists(digitfolderpath):\n",
    "        os.makedirs(digitfolderpath)"
   ]
  },
  {
   "cell_type": "code",
   "execution_count": 8,
   "metadata": {},
   "outputs": [],
   "source": [
    "# Debug Stuff\n",
    "# n = int(n/200)  # debug\n",
    "# n = 1"
   ]
  },
  {
   "cell_type": "code",
   "execution_count": 39,
   "metadata": {},
   "outputs": [
    {
     "name": "stdout",
     "output_type": "stream",
     "text": [
      "Done: 0/1092\n",
      "['7', '0', '9', '6', '0']\n"
     ]
    }
   ],
   "source": [
    "freqmap = {}\n",
    "\n",
    "# Set zeros for all captchas in freq map\n",
    "for i in range(0,10):\n",
    "    freqmap[str(i)] = 0\n",
    "\n",
    "for i in range(0,n):\n",
    "    if(i % 100 == 0):\n",
    "        print(\"Done: {}/{}\".format(i,n))\n",
    "        \n",
    "    imagepath = os.path.join(CAPTCHA_DIR, x[i])\n",
    "#     print(imagepath)\n",
    "    img = cv2.imread(imagepath)\n",
    "    \n",
    "    # Show loaded Image\n",
    "    #cv2.imshow(\"img\", img)\n",
    "    #cv2.waitKey(1)\n",
    "    \n",
    "    rois = processImage(img)\n",
    "    if(rois is None):\n",
    "        print(\"Problem Img\", x[i])\n",
    "        continue;\n",
    "        \n",
    "#     print(rois.shape)\n",
    "    \n",
    "    # Show ROI(s)\n",
    "#     for roi in rois:\n",
    "#         cv2.imshow(\"roi\", roi)\n",
    "#         cv2.waitKey(300)\n",
    "    \n",
    "    label = y[i]\n",
    "    individualLabels = list(label)\n",
    "    print(individualLabels)\n",
    "    for j in range(5):\n",
    "        labeldigit = individualLabels[j]\n",
    "        freqmap[labeldigit] += 1\n",
    "        digitsavepath = os.path.join(DIGITS_DIR,labeldigit,\"{}.jpg\".format(freqmap[labeldigit]))\n",
    "#         print(digitsavepath)\n",
    "        cv2.imwrite(digitsavepath, rois[j])\n",
    "    \n",
    "cv2.destroyAllWindows()"
   ]
  }
 ],
 "metadata": {
  "kernelspec": {
   "display_name": "Python 3",
   "language": "python",
   "name": "python3"
  },
  "language_info": {
   "codemirror_mode": {
    "name": "ipython",
    "version": 3
   },
   "file_extension": ".py",
   "mimetype": "text/x-python",
   "name": "python",
   "nbconvert_exporter": "python",
   "pygments_lexer": "ipython3",
   "version": "3.6.9"
  }
 },
 "nbformat": 4,
 "nbformat_minor": 2
}
