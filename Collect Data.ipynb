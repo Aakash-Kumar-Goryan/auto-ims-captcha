{
 "cells": [
  {
   "cell_type": "code",
   "execution_count": 8,
   "metadata": {},
   "outputs": [],
   "source": [
    "import requests\n",
    "from bs4 import BeautifulSoup"
   ]
  },
  {
   "cell_type": "code",
   "execution_count": 9,
   "metadata": {},
   "outputs": [
    {
     "data": {
      "text/plain": [
       "<Response [200]>"
      ]
     },
     "execution_count": 9,
     "metadata": {},
     "output_type": "execute_result"
    }
   ],
   "source": [
    "page = requests.get(\"https://www.imsnsit.org/imsnsit/student.htm\")\n",
    "page"
   ]
  },
  {
   "cell_type": "code",
   "execution_count": 10,
   "metadata": {},
   "outputs": [
    {
     "data": {
      "text/plain": [
       "b'<html>\\n<head>\\n<title>NSIT Delhi</title>\\n<meta itemprop=\"image\" content=\"images/plumicon.gif\">\\n<meta name=\"robots\" content=\"noindex\">\\n<meta name=\"googlebot\" content=\"noindex, nofollow\">\\n<link rel=\"icon\" href=\"images/plumicon.gif\" > \\n</head>\\n<frameset name=\"topmost\"  id=\"topmost\" rows=\"*,0,0\"  border=\"1\" frameborder=\"1\"  framespacing=\"0\">\\n  <frame name=\"banner\"  id=\"banner\" src=\\'student_login.php\\'  scrolling=\"No\" framespacing=\"0\"  noresize>\\n  <frameset cols=\"0,*,340\"  name=middle id=middle >\\n    <frame name=\"contents\"  target=\"contents\"  src=\"blank.htm\" scrolling=\"Auto\">\\n    <frameset name=fset1 id=fset1  rows=\"*,33%\" style=\\'BACKGROUND-IMAGE: url(\"theme_grey/topbg.gif\");\\'>\\n      <frame name=\"top\" id=\"top\"  scrolling=\"Yes\">\\n      <frame name=\"bottom\" id=\"bottom\"  >\\n    </frameset>\\n    <frame name=\"data\" id=\"data\">\\n  </frameset>\\n   \\n  <noframes>\\n  <body>\\n  <p>This page uses frames, but your browser doesn\\'t support them.</p>\\n  </body>\\n  </noframes> \\n</frameset>\\n\\n</html>'"
      ]
     },
     "execution_count": 10,
     "metadata": {},
     "output_type": "execute_result"
    }
   ],
   "source": [
    "page.content"
   ]
  },
  {
   "cell_type": "code",
   "execution_count": 11,
   "metadata": {},
   "outputs": [],
   "source": [
    "soup = BeautifulSoup(page.content, 'html.parser')\n"
   ]
  },
  {
   "cell_type": "code",
   "execution_count": 28,
   "metadata": {},
   "outputs": [
    {
     "data": {
      "text/plain": [
       "b'<html>\\n\\t<head> \\n\\t\\t<style>\\n\\t\\t\\tbody{\\n\\t\\t\\t\\tbackground-color: #FFFFFF;\\n\\t\\t\\t}\\n\\t\\t\\th1{\\n\\t\\t\\t\\tcolor:orange;\\n\\t\\t\\t\\ttext-align:center;\\n\\t\\t\\t}\\n\\t\\t\\tp{\\n\\t\\t\\t\\tfont-family:\\'Times New Roman\\';\\n\\t\\t\\t\\tfont-size:20px;\\n\\t\\t\\t}\\n\\t\\t\\ta { color:black; } \\n\\t\\t</style>\\n        <script language=javascript>\\n            parent.document.getElementById(\\'topmost\\').setAttribute(\\'rows\\', \\'*,0,0\\');\\n\\t\\t\\t\\n\\t\\t\\tfunction DeviceScreeCheck(){\\n\\t\\t\\t\\tvar screenWidth = window.screen.width;\\n\\t\\t\\t\\tvar screenHeight = window.screen.height;\\n\\t\\t\\t\\tif(screenWidth>1000 || screenHeight>1000){\\n\\t\\t\\t\\t\\tdocument.getElementById(\\'sw\\').src=\\'plum5_fw_login.php?t=sw&w=1\\';\\n\\t\\t\\t\\t}else{\\n\\t\\t\\t\\t\\t// document.getElementById(\\'bodytag\\').innerHTML = \\'This device will not support,This application for use on Desktops/wide Tabs(>1024 resolution) only<br>\\';\\n\\t\\t\\t\\t}\\n\\t\\t\\t\\tdocument.getElementById(\\'bodytag\\').style.display=\\'\\';\\n\\t\\t\\t}\\n\\n\\t\\t</script>\\n\\t\\t<LINK href=\\'css/METAL/app.css\\' type=text/css rel=stylesheet>\\n\\t\\t<meta name=\\'robots\\' content=\\'noindex\\'>\\n\\t\\t<meta name=\\'googlebot\\' content=\\'noindex, nofollow\\'>\\n\\n\\t</head>    \\n\\t<body onload=\\'DeviceScreeCheck();\\'>\\n\\t\\n\\t<iframe name=\\'sw\\' id=\\'sw\\' style=\\'dispaly:none;height:0;\\' frameborder=0></iframe>\\n\\t\\n\\t\\n\\t<table align=\\'center\\' border=0 > \\n\\t\\t\\t<tr><td colspan=2><!-- <p align=\\'center\\' style=\\'font-family:Arial;font-weight:bold; color:#bd0019\\'>Results of B.E. examinations held in May / June - 2016 \\n\\t\\t\\t<p align=\\'center\\' style=\\'font-weight:600;background-color:#f1f1f1;border:0px solid #c3c3c3;padding:20px;font-size:14px;font-family:Arial\\'>\\n\\t\\t\\tFor Results click...<br><br><a style=\\'border-radius:2px;background:#0071b2; padding:5px 10px; color:#fff\\' target=_BLANK href=\\'https://imsnsit.org/imsnsit/results/NSIT Delhi_2015-16_8th semester_results.pdf\\'>8th Semester </a>\\n\\t\\t\\t&nbsp;&nbsp;&nbsp;&nbsp;&nbsp;&nbsp;<a style=\\'border-radius:2px;background:#0071b2; padding:5px 10px; color:#fff\\' target=_BLANK href=\\'https://imsnsit.org/imsnsit/results/NSIT Delhi_2015-16_6th semester_results.pdf\\'>6th Semester </a>\\n\\t\\t\\t&nbsp;&nbsp;&nbsp;&nbsp;&nbsp;&nbsp;<a style=\\'border-radius:2px;background:#0071b2; padding:5px 10px; color:#fff\\' target=_BLANK href=\\'https://imsnsit.org/imsnsit/results/NSIT Delhi_2015-16_4th Semester_results.pdf\\'>4th Semester </a>\\n\\t\\t\\t&nbsp;&nbsp;&nbsp;&nbsp;&nbsp;&nbsp;<a style=\\'border-radius:2px;background:#0071b2; padding:5px 10px; color:#fff\\' target=_BLANK href=\\'https://imsnsit.org/imsnsit/results/NSIT Delhi_2015-16_2nd semester_results.pdf\\'>2nd Semester </a></p> --></p>\\n\\t\\t\\t<p align=\\'center\\'><img src=\\'images/mlogo.png\\' alt=\\'image\\' ><br><br></p>\\n\\t\\t\\t</td></tr> \\n\\t\\t\\t \\n\\t\\t\\t<tr><td align=\\'center\\' rowspan=2><img src=\\'images/nsit.jpg\\' alt=\\'image\\' align=\\'center\\' width=300 height=250></td></tr>\\n\\t\\t\\t<tr><td><font color=\\'black size=\\'6\\'><a href=\\'index3.htm\\' style=\\'color:black;padding:5px\\' class=\\'round shadow\\'>Faculty / Staff Login&nbsp;</a><br><br><br><a href=\\'student.htm\\'style=\\'color:black;padding:5px\\' class=\\'round shadow\\'>Student Login&nbsp;</a><br><br><br><a href=\\'alumni.htm\\' style=\\'color:black;padding:5px\\' class=\\'round shadow\\'>Alumni&nbsp;</a>&emsp;<a href=\\'studentsnapshot.php\\' target=\\'new\\' style=\\'color:black;padding:5px\\' class=\\'round shadow\\'>Parent&nbsp;</a><br><br><br><a href=\\'notifications.php\\' target=\\'new\\' style=\\'color:black;padding:5px\\' class=\\'round shadow\\'>Notices / Circulars&nbsp;</a><br><br><br><a href=\\'nsithelp_doc.php\\' target=\\'new\\' style=\\'color:black;padding:5px\\' class=\\'round shadow\\'>Help Documents&nbsp;</a><br><br><br><a href=\\'nsit_admissions.htm\\'style=\\'color:black;padding:5px\\' class=\\'round shadow\\'>NSUT Admissions&nbsp;</a><br><br><br><a href=\\'elearn_programeregistration.php\\'style=\\'color:black;padding:5px\\' class=\\'round shadow\\'>Short Term Course&nbsp;</a></font></td></tr><!--https://imsnsit.org/imsnsit/elearn_alumnimgmt.php-->\\n\\t\\t\\t<tr><td colspan=2 style=\\'padding:10px\\'><br><img width=\\'670\\' height=\\'5\\' src=\\'images/blue.gif\\'></td></tr>\\n\\t\\t\\t<tr><td colspan=2 style=\\'padding:0 10px\\' >\\n\\t\\t\\t<div style=\\'float:left\\'>\\n\\t\\t\\t<!-- <span id=\"siteseal\"><script type=\"text/javascript\" src=\"https://seal.godaddy.com/getSeal?sealID=4atu8CT2hJK9P9l0vjfpSu6npyGVZtCsVIfbOtgePmpgweWXp9kqomXL6TPW\"></script></span> -->\\n\\t\\t\\t</div>\\n\\t\\t\\t<div style=\\'float:right\\'>\\n\\t\\t\\t<font face=Arial size=1><a style=\\'text-decoration:none;\\' href=\\'http://plumsoft.com\\' target=_BLANK>Plumsoft Solutions, Hyderabad.</font><br><img src=\\'images/powered-by-plumware-small.png\\' align=right border=0 style=\\'\\'></div></td></tr>\\n\\t\\t</table>\\t\\t\\t\\t\\t\\t\\t\\t\\t\\t\\t\\t\\t\\t\\t\\t\\t\\t\\t\\n\\t</body>\\t\\t\\t\\t\\t\\t\\t\\t\\t\\t\\t\\t\\t\\t\\t\\t\\t\\t\\t\\t\\t\\t\\t\\n</html>\\t\\t\\t\\t\\t\\t\\t\\t\\t\\t\\t\\t\\t\\t\\t\\t\\t\\t\\t\\t\\t\\t\\t\\t\\t'"
      ]
     },
     "execution_count": 28,
     "metadata": {},
     "output_type": "execute_result"
    }
   ],
   "source": [
    "frame = soup.find_all(id=\"banner\")[0]\n",
    "framecontent = requests.get(\"https://www.imsnsit.org/imsnsit/\",frame[\"src\"])\n",
    "framecontent.content"
   ]
  },
  {
   "cell_type": "code",
   "execution_count": 17,
   "metadata": {},
   "outputs": [
    {
     "ename": "SyntaxError",
     "evalue": "invalid syntax (<ipython-input-17-a46950751878>, line 1)",
     "output_type": "error",
     "traceback": [
      "\u001b[1;36m  File \u001b[1;32m\"<ipython-input-17-a46950751878>\"\u001b[1;36m, line \u001b[1;32m1\u001b[0m\n\u001b[1;33m    inner_content = requests.get(frame)[\"src\"])\u001b[0m\n\u001b[1;37m                                              ^\u001b[0m\n\u001b[1;31mSyntaxError\u001b[0m\u001b[1;31m:\u001b[0m invalid syntax\n"
     ]
    }
   ],
   "source": [
    "inner_content = requests.get(soup.find(\"iframe\")[\"src\"])\n"
   ]
  }
 ],
 "metadata": {
  "kernelspec": {
   "display_name": "Python 3",
   "language": "python",
   "name": "python3"
  },
  "language_info": {
   "codemirror_mode": {
    "name": "ipython",
    "version": 3
   },
   "file_extension": ".py",
   "mimetype": "text/x-python",
   "name": "python",
   "nbconvert_exporter": "python",
   "pygments_lexer": "ipython3",
   "version": "3.6.9"
  }
 },
 "nbformat": 4,
 "nbformat_minor": 2
}
