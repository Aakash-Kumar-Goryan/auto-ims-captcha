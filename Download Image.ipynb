{
 "cells": [
  {
   "cell_type": "code",
   "execution_count": 2,
   "metadata": {},
   "outputs": [],
   "source": [
    "import urllib"
   ]
  },
  {
   "cell_type": "code",
   "execution_count": 11,
   "metadata": {},
   "outputs": [],
   "source": [
    "import urllib.request \n",
    "\n",
    "# r= urllib.request.urlretrieve(\"https://www.imsnsit.org/imsnsit/images/captcha/captcha_1578224899.jpg\", \"a\")"
   ]
  },
  {
   "cell_type": "code",
   "execution_count": 19,
   "metadata": {},
   "outputs": [
    {
     "name": "stdout",
     "output_type": "stream",
     "text": [
      "captcha_1578237356.jpg\n"
     ]
    },
    {
     "data": {
      "text/plain": [
       "'captcha_1578237356.jpg'"
      ]
     },
     "execution_count": 19,
     "metadata": {},
     "output_type": "execute_result"
    }
   ],
   "source": [
    "def downloadImage(url):\n",
    "    imageName = url.split(\"/\")[6]\n",
    "    urllib.request.urlretrieve(url, \"uploads/\" + imageName)\n",
    "    print(imageName)\n",
    "    return imageName\n",
    "    \n",
    "downloadImage(\"https://www.imsnsit.org/imsnsit/images/captcha/captcha_1578237356.jpg\")"
   ]
  },
  {
   "cell_type": "code",
   "execution_count": null,
   "metadata": {},
   "outputs": [],
   "source": []
  }
 ],
 "metadata": {
  "kernelspec": {
   "display_name": "Python 3",
   "language": "python",
   "name": "python3"
  },
  "language_info": {
   "codemirror_mode": {
    "name": "ipython",
    "version": 3
   },
   "file_extension": ".py",
   "mimetype": "text/x-python",
   "name": "python",
   "nbconvert_exporter": "python",
   "pygments_lexer": "ipython3",
   "version": "3.6.9"
  }
 },
 "nbformat": 4,
 "nbformat_minor": 2
}
