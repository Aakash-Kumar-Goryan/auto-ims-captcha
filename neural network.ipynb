{
 "cells": [
  {
   "cell_type": "code",
   "execution_count": 60,
   "metadata": {},
   "outputs": [],
   "source": [
    "import os\n",
    "import cv2\n",
    "import time\n",
    "import numpy as np\n",
    "import pandas as pd\n",
    "import matplotlib.pyplot as plt\n",
    "\n",
    "from PIL import Image\n",
    "from sklearn.model_selection import train_test_split\n",
    "from tensorflow.keras.layers import (AveragePooling2D, Conv2D, Dense, Dropout, Flatten, Input, MaxPooling2D, ZeroPadding2D) \n",
    "from tensorflow.keras.utils import to_categorical\n",
    "from tensorflow.keras.models import Model, Sequential\n",
    "from sklearn.metrics import accuracy_score,confusion_matrix\n",
    "from tensorflow.python.keras import backend as k"
   ]
  },
  {
   "cell_type": "code",
   "execution_count": 3,
   "metadata": {},
   "outputs": [],
   "source": [
    "CAPTCHA_DIR=os.path.join(\"data\",\"data-new\")\n",
    "DIGITS_DIR=os.path.join(\"data\",\"captcha-digits\")"
   ]
  },
  {
   "cell_type": "code",
   "execution_count": 4,
   "metadata": {},
   "outputs": [
    {
     "name": "stdout",
     "output_type": "stream",
     "text": [
      "Processing for digit:  0\n",
      "Processing for digit:  1\n",
      "Processing for digit:  2\n",
      "Processing for digit:  3\n",
      "Processing for digit:  4\n",
      "Processing for digit:  5\n",
      "Processing for digit:  6\n",
      "Processing for digit:  7\n",
      "Processing for digit:  8\n",
      "Processing for digit:  9\n"
     ]
    }
   ],
   "source": [
    "def loadData():\n",
    "    x = []\n",
    "    y = []\n",
    "    for i in os.scandir(DIGITS_DIR):\n",
    "        if i.is_dir():\n",
    "            print(\"Processing for digit: \",i.name)\n",
    "            for j in os.scandir(i.path):\n",
    "                #print(j.name)\n",
    "                img = cv2.imread(j.path,0)\n",
    "#                 cv2.imshow(\"img\", img)\n",
    "#                 cv2.waitKey(1)\n",
    "#                 img = np.reshape(img, (20*20))\n",
    "                x.append(img)\n",
    "#                 x.append(np.reshape(img, (length, width, -1)))\n",
    "                label = i.name\n",
    "                y.append(int(label))\n",
    "    x = np.array(x)\n",
    "    y = np.array(y)\n",
    "#     cv2.destroyAllWindows()\n",
    "    return x,y\n",
    "        \n",
    "X,Y = loadData()"
   ]
  },
  {
   "cell_type": "code",
   "execution_count": 6,
   "metadata": {},
   "outputs": [
    {
     "data": {
      "text/plain": [
       "<matplotlib.image.AxesImage at 0x1f1e40606a0>"
      ]
     },
     "execution_count": 6,
     "metadata": {},
     "output_type": "execute_result"
    },
    {
     "data": {
      "image/png": "[encoded data removed]",
      "text/plain": [
       "<Figure size 432x288 with 1 Axes>"
      ]
     },
     "metadata": {
      "needs_background": "light"
     },
     "output_type": "display_data"
    }
   ],
   "source": [
    "plt.imshow(X[210])"
   ]
  },
  {
   "cell_type": "code",
   "execution_count": 7,
   "metadata": {},
   "outputs": [
    {
     "name": "stdout",
     "output_type": "stream",
     "text": [
      "(2180, 20, 20) (2180,)\n"
     ]
    }
   ],
   "source": [
    "print(X.shape,Y.shape)"
   ]
  },
  {
   "cell_type": "code",
   "execution_count": 8,
   "metadata": {},
   "outputs": [
    {
     "data": {
      "text/plain": [
       "(2180, 400)"
      ]
     },
     "execution_count": 8,
     "metadata": {},
     "output_type": "execute_result"
    }
   ],
   "source": [
    "# Flatten the images\n",
    "image_vector_size = 20*20\n",
    "X = X.reshape(X.shape[0], image_vector_size)\n",
    "X.shape"
   ]
  },
  {
   "cell_type": "code",
   "execution_count": 10,
   "metadata": {},
   "outputs": [
    {
     "name": "stdout",
     "output_type": "stream",
     "text": [
      "First 5 training lables as one-hot encoded vectors:\n",
      " [0. 0. 1. 0. 0. 0. 0. 0. 0. 0.]\n"
     ]
    }
   ],
   "source": [
    "# Convert to \"one-hot\" vectors using the to_categorical function\n",
    "num_classes = 10\n",
    "yEnc = to_categorical(Y, num_classes)\n",
    "print(\"First 5 training lables as one-hot encoded vectors:\\n\", yEnc[512])"
   ]
  },
  {
   "cell_type": "code",
   "execution_count": 11,
   "metadata": {},
   "outputs": [
    {
     "data": {
      "text/plain": [
       "((1635, 400), (545, 400), (1635, 10), (545, 10))"
      ]
     },
     "execution_count": 11,
     "metadata": {},
     "output_type": "execute_result"
    }
   ],
   "source": [
    "xtrain,xtest,ytrain,ytest = train_test_split(X,yEnc)\n",
    "xtrain.shape,xtest.shape,ytrain.shape,ytest.shape"
   ]
  },
  {
   "cell_type": "code",
   "execution_count": 12,
   "metadata": {},
   "outputs": [
    {
     "name": "stdout",
     "output_type": "stream",
     "text": [
      "Model: \"sequential\"\n",
      "_________________________________________________________________\n",
      "Layer (type)                 Output Shape              Param #   \n",
      "=================================================================\n",
      "dense (Dense)                (None, 800)               320800    \n",
      "_________________________________________________________________\n",
      "dense_1 (Dense)              (None, 800)               640800    \n",
      "_________________________________________________________________\n",
      "dense_2 (Dense)              (None, 200)               160200    \n",
      "_________________________________________________________________\n",
      "dense_3 (Dense)              (None, 10)                2010      \n",
      "=================================================================\n",
      "Total params: 1,123,810\n",
      "Trainable params: 1,123,810\n",
      "Non-trainable params: 0\n",
      "_________________________________________________________________\n"
     ]
    }
   ],
   "source": [
    "input_shape = (400, ) #20*20\n",
    "num_classes = 10 # ten unique digits\n",
    "\n",
    "# The input layer requires the special input_shape parameter which should match\n",
    "# the shape of our training data.\n",
    "model = Sequential([\n",
    "    Dense(units=800, activation='sigmoid', input_shape=input_shape),\n",
    "    Dense(units=800, activation='sigmoid', input_shape=input_shape),\n",
    "    Dense(units=200, activation='sigmoid', input_shape=input_shape),\n",
    "    Dense(units=num_classes, activation='softmax')\n",
    "])\n",
    "model.summary()"
   ]
  },
  {
   "cell_type": "code",
   "execution_count": 22,
   "metadata": {},
   "outputs": [
    {
     "name": "stdout",
     "output_type": "stream",
     "text": [
      "Train on 1635 samples\n",
      "Epoch 1/30\n",
      "1635/1635 [==============================] - 1s 382us/sample - loss: 0.0040 - accuracy: 0.9804\n",
      "Epoch 2/30\n",
      "1635/1635 [==============================] - 0s 126us/sample - loss: 0.0022 - accuracy: 0.9859\n",
      "Epoch 3/30\n",
      "1635/1635 [==============================] - 0s 129us/sample - loss: 0.0023 - accuracy: 0.9853\n",
      "Epoch 4/30\n",
      "1635/1635 [==============================] - 0s 135us/sample - loss: 0.0015 - accuracy: 0.9908\n",
      "Epoch 5/30\n",
      "1635/1635 [==============================] - 0s 144us/sample - loss: 0.0015 - accuracy: 0.9914\n",
      "Epoch 6/30\n",
      "1635/1635 [==============================] - 0s 142us/sample - loss: 6.3207e-04 - accuracy: 0.9963\n",
      "Epoch 7/30\n",
      "1635/1635 [==============================] - 0s 133us/sample - loss: 8.3115e-04 - accuracy: 0.9963\n",
      "Epoch 8/30\n",
      "1635/1635 [==============================] - 0s 136us/sample - loss: 5.3047e-04 - accuracy: 0.9976\n",
      "Epoch 9/30\n",
      "1635/1635 [==============================] - 0s 138us/sample - loss: 9.2832e-04 - accuracy: 0.9957\n",
      "Epoch 10/30\n",
      "1635/1635 [==============================] - 0s 149us/sample - loss: 8.6550e-04 - accuracy: 0.9957\n",
      "Epoch 11/30\n",
      "1635/1635 [==============================] - 0s 176us/sample - loss: 4.3248e-04 - accuracy: 0.9988\n",
      "Epoch 12/30\n",
      "1635/1635 [==============================] - 0s 154us/sample - loss: 6.0922e-04 - accuracy: 0.9976\n",
      "Epoch 13/30\n",
      "1635/1635 [==============================] - 0s 160us/sample - loss: 6.0798e-04 - accuracy: 0.9963\n",
      "Epoch 14/30\n",
      "1635/1635 [==============================] - 0s 134us/sample - loss: 5.8061e-04 - accuracy: 0.9976\n",
      "Epoch 15/30\n",
      "1635/1635 [==============================] - 0s 135us/sample - loss: 6.7035e-04 - accuracy: 0.9969\n",
      "Epoch 16/30\n",
      "1635/1635 [==============================] - 0s 141us/sample - loss: 7.3753e-04 - accuracy: 0.9969\n",
      "Epoch 17/30\n",
      "1635/1635 [==============================] - 0s 139us/sample - loss: 0.0010 - accuracy: 0.9939\n",
      "Epoch 18/30\n",
      "1635/1635 [==============================] - 0s 163us/sample - loss: 4.1814e-04 - accuracy: 0.9988\n",
      "Epoch 19/30\n",
      "1635/1635 [==============================] - 0s 153us/sample - loss: 5.2731e-04 - accuracy: 0.9982\n",
      "Epoch 20/30\n",
      "1635/1635 [==============================] - 0s 149us/sample - loss: 6.9985e-04 - accuracy: 0.9957\n",
      "Epoch 21/30\n",
      "1635/1635 [==============================] - 0s 182us/sample - loss: 8.2253e-04 - accuracy: 0.9951\n",
      "Epoch 22/30\n",
      "1635/1635 [==============================] - 0s 143us/sample - loss: 8.9470e-04 - accuracy: 0.9951\n",
      "Epoch 23/30\n",
      "1635/1635 [==============================] - 0s 141us/sample - loss: 0.0012 - accuracy: 0.9951\n",
      "Epoch 24/30\n",
      "1635/1635 [==============================] - 0s 145us/sample - loss: 0.0010 - accuracy: 0.9963\n",
      "Epoch 25/30\n",
      "1635/1635 [==============================] - 0s 176us/sample - loss: 8.2955e-04 - accuracy: 0.9957\n",
      "Epoch 26/30\n",
      "1635/1635 [==============================] - 0s 160us/sample - loss: 0.0013 - accuracy: 0.9933\n",
      "Epoch 27/30\n",
      "1635/1635 [==============================] - 0s 153us/sample - loss: 0.0014 - accuracy: 0.9927\n",
      "Epoch 28/30\n",
      "1635/1635 [==============================] - 0s 136us/sample - loss: 0.0015 - accuracy: 0.9896\n",
      "Epoch 29/30\n",
      "1635/1635 [==============================] - 0s 146us/sample - loss: 9.3764e-04 - accuracy: 0.9951\n",
      "Epoch 30/30\n",
      "1635/1635 [==============================] - 0s 151us/sample - loss: 9.9415e-04 - accuracy: 0.9927\n"
     ]
    }
   ],
   "source": [
    "model.compile(optimizer=\"adam\", loss='mean_squared_error', metrics=['accuracy'])\n",
    "history = model.fit(xtrain, ytrain, batch_size=500, epochs=30, verbose=True)"
   ]
  },
  {
   "cell_type": "code",
   "execution_count": 23,
   "metadata": {},
   "outputs": [
    {
     "data": {
      "text/plain": [
       "(0.0035741580633856162, 0.9779816)"
      ]
     },
     "execution_count": 23,
     "metadata": {},
     "output_type": "execute_result"
    }
   ],
   "source": [
    "#Evaluating over Training Data\n",
    "loss, accuracy  = model.evaluate(xtest, ytest, verbose=False)\n",
    "loss ,accuracy"
   ]
  },
  {
   "cell_type": "markdown",
   "metadata": {},
   "source": [
    "## Evaluating single image"
   ]
  },
  {
   "cell_type": "code",
   "execution_count": 24,
   "metadata": {},
   "outputs": [],
   "source": [
    "from processimage import processImage"
   ]
  },
  {
   "cell_type": "code",
   "execution_count": 61,
   "metadata": {},
   "outputs": [
    {
     "name": "stdout",
     "output_type": "stream",
     "text": [
      "85529\n"
     ]
    },
    {
     "data": {
      "image/png": "[encoded data removed]",
      "text/plain": [
       "<PIL.JpegImagePlugin.JpegImageFile image mode=RGB size=70x25 at 0x1F1E7075DA0>"
      ]
     },
     "execution_count": 61,
     "metadata": {},
     "output_type": "execute_result"
    }
   ],
   "source": [
    "imageIndex = 100\n",
    "CAPTCHA_DIR = os.path.join(\"data\",\"data-new\")\n",
    "data = pd.read_csv(\"CAP01.csv\",dtype={'value': object})\n",
    "imagepath = os.path.join(CAPTCHA_DIR, data.iloc[:,0][imageIndex])\n",
    "img = cv2.imread(imagepath)\n",
    "rois = processImage(img)\n",
    "if(rois is None):\n",
    "    print(\"Problem Img\", data.iloc[:,0][imageIndex])\n",
    "prediction = 0\n",
    "for i in range(len(rois)):\n",
    "    tmp = rois[i].reshape(1,image_vector_size)\n",
    "    preds = model.predict(tmp)\n",
    "    round_preds = np.around(preds)\n",
    "    prediction = (10*prediction) + np.argmax(round_preds, axis=None, out=None)\n",
    "print(prediction)\n",
    "Image.open(imagepath)"
   ]
  }
 ],
 "metadata": {
  "kernelspec": {
   "display_name": "Python 3",
   "language": "python",
   "name": "python3"
  },
  "language_info": {
   "codemirror_mode": {
    "name": "ipython",
    "version": 3
   },
   "file_extension": ".py",
   "mimetype": "text/x-python",
   "name": "python",
   "nbconvert_exporter": "python",
   "pygments_lexer": "ipython3",
   "version": "3.6.9"
  }
 },
 "nbformat": 4,
 "nbformat_minor": 2
}
