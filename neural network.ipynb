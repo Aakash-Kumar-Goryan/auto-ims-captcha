{
 "cells": [
  {
   "cell_type": "code",
   "execution_count": 1,
   "metadata": {},
   "outputs": [],
   "source": [
    "import os\n",
    "import cv2\n",
    "import time\n",
    "import numpy as np\n",
    "import pandas as pd\n",
    "import matplotlib.pyplot as plt\n",
    "\n",
    "# from PIL import Image\n",
    "from sklearn.model_selection import train_test_split\n",
    "from tensorflow.keras.layers import (AveragePooling2D, Conv2D, Dense, Dropout, Flatten, Input, MaxPooling2D, ZeroPadding2D) \n",
    "from tensorflow.keras.utils import to_categorical\n",
    "from tensorflow.keras.models import Model, Sequential\n",
    "from sklearn.metrics import accuracy_score,confusion_matrix\n",
    "from tensorflow.python.keras import backend as k"
   ]
  },
  {
   "cell_type": "code",
   "execution_count": 106,
   "metadata": {},
   "outputs": [],
   "source": [
    "CAPTCHA_DIR=os.path.join(\"data\",\"data-new\")\n",
    "DIGITS_DIR=os.path.join(\"data\",\"captcha-digits\")"
   ]
  },
  {
   "cell_type": "code",
   "execution_count": 107,
   "metadata": {},
   "outputs": [
    {
     "name": "stdout",
     "output_type": "stream",
     "text": [
      "Processing for digit:  9\n",
      "Processing for digit:  0\n",
      "Processing for digit:  7\n",
      "Processing for digit:  6\n",
      "Processing for digit:  1\n",
      "Processing for digit:  8\n",
      "Processing for digit:  4\n",
      "Processing for digit:  3\n",
      "Processing for digit:  2\n",
      "Processing for digit:  5\n"
     ]
    }
   ],
   "source": [
    "def loadData():\n",
    "    x = []\n",
    "    y = []\n",
    "    for i in os.scandir(DIGITS_DIR):\n",
    "        if i.is_dir():\n",
    "            print(\"Processing for digit: \",i.name)\n",
    "            for j in os.scandir(i.path):\n",
    "                #print(j.name)\n",
    "                img = cv2.imread(j.path,0)\n",
    "#                 cv2.imshow(\"img\", img)\n",
    "#                 cv2.waitKey(1)\n",
    "#                 img = np.reshape(img, (20*20))\n",
    "                x.append(img)\n",
    "#                 x.append(np.reshape(img, (length, width, -1)))\n",
    "                label = i.name\n",
    "                y.append(int(label))\n",
    "    x = np.array(x)\n",
    "    y = np.array(y)\n",
    "#     cv2.destroyAllWindows()\n",
    "    return x,y\n",
    "        \n",
    "X,Y = loadData()"
   ]
  },
  {
   "cell_type": "code",
   "execution_count": 108,
   "metadata": {},
   "outputs": [
    {
     "data": {
      "text/plain": [
       "<matplotlib.image.AxesImage at 0x1a6de937b8>"
      ]
     },
     "execution_count": 108,
     "metadata": {},
     "output_type": "execute_result"
    },
    {
     "data": {
      "image/png": "[encoded data removed]",
      "text/plain": [
       "<Figure size 432x288 with 1 Axes>"
      ]
     },
     "metadata": {
      "needs_background": "light"
     },
     "output_type": "display_data"
    }
   ],
   "source": [
    "plt.imshow(X[4000])"
   ]
  },
  {
   "cell_type": "code",
   "execution_count": 109,
   "metadata": {},
   "outputs": [
    {
     "name": "stdout",
     "output_type": "stream",
     "text": [
      "(5395, 20, 20) (5395,)\n"
     ]
    }
   ],
   "source": [
    "print(X.shape,Y.shape)"
   ]
  },
  {
   "cell_type": "code",
   "execution_count": 110,
   "metadata": {},
   "outputs": [
    {
     "data": {
      "text/plain": [
       "(5395, 400)"
      ]
     },
     "execution_count": 110,
     "metadata": {},
     "output_type": "execute_result"
    }
   ],
   "source": [
    "# Flatten the images\n",
    "image_vector_size = 20*20\n",
    "X = X.reshape(X.shape[0], image_vector_size)\n",
    "X.shape"
   ]
  },
  {
   "cell_type": "code",
   "execution_count": 111,
   "metadata": {},
   "outputs": [
    {
     "name": "stdout",
     "output_type": "stream",
     "text": [
      "First 5 training lables as one-hot encoded vectors:\n",
      " [0. 0. 0. 1. 0. 0. 0. 0. 0. 0.]\n"
     ]
    }
   ],
   "source": [
    "# Convert to \"one-hot\" vectors using the to_categorical function\n",
    "num_classes = 10\n",
    "yEnc = to_categorical(Y, num_classes)\n",
    "print(\"First 5 training lables as one-hot encoded vectors:\\n\", yEnc[4000])"
   ]
  },
  {
   "cell_type": "code",
   "execution_count": 112,
   "metadata": {},
   "outputs": [
    {
     "data": {
      "text/plain": [
       "((4046, 400), (1349, 400), (4046, 10), (1349, 10))"
      ]
     },
     "execution_count": 112,
     "metadata": {},
     "output_type": "execute_result"
    }
   ],
   "source": [
    "xtrain,xtest,ytrain,ytest = train_test_split(X,yEnc)\n",
    "xtrain.shape,xtest.shape,ytrain.shape,ytest.shape"
   ]
  },
  {
   "cell_type": "code",
   "execution_count": 118,
   "metadata": {},
   "outputs": [
    {
     "name": "stdout",
     "output_type": "stream",
     "text": [
      "Model: \"sequential_17\"\n",
      "_________________________________________________________________\n",
      "Layer (type)                 Output Shape              Param #   \n",
      "=================================================================\n",
      "dense_50 (Dense)             (None, 800)               320800    \n",
      "_________________________________________________________________\n",
      "dense_51 (Dense)             (None, 800)               640800    \n",
      "_________________________________________________________________\n",
      "dense_52 (Dense)             (None, 200)               160200    \n",
      "_________________________________________________________________\n",
      "dense_53 (Dense)             (None, 10)                2010      \n",
      "=================================================================\n",
      "Total params: 1,123,810\n",
      "Trainable params: 1,123,810\n",
      "Non-trainable params: 0\n",
      "_________________________________________________________________\n"
     ]
    }
   ],
   "source": [
    "input_shape = (400, ) #20*20\n",
    "num_classes = 10 # ten unique digits\n",
    "\n",
    "# The input layer requires the special input_shape parameter which should match\n",
    "# the shape of our training data.\n",
    "model = Sequential([\n",
    "    Dense(units=800, activation='sigmoid', input_shape=input_shape),\n",
    "    Dense(units=800, activation='sigmoid', input_shape=input_shape),\n",
    "    Dense(units=200, activation='sigmoid', input_shape=input_shape),\n",
    "    Dense(units=num_classes, activation='softmax')\n",
    "])\n",
    "model.summary()"
   ]
  },
  {
   "cell_type": "code",
   "execution_count": 119,
   "metadata": {},
   "outputs": [
    {
     "name": "stdout",
     "output_type": "stream",
     "text": [
      "Train on 3236 samples, validate on 810 samples\n",
      "Epoch 1/30\n",
      "3236/3236 [==============================] - 3s 968us/sample - loss: 0.0879 - accuracy: 0.2262 - val_loss: 0.0800 - val_accuracy: 0.3988\n",
      "Epoch 2/30\n",
      "3236/3236 [==============================] - 1s 262us/sample - loss: 0.0717 - accuracy: 0.4960 - val_loss: 0.0574 - val_accuracy: 0.6247\n",
      "Epoch 3/30\n",
      "3236/3236 [==============================] - 1s 237us/sample - loss: 0.0489 - accuracy: 0.7423 - val_loss: 0.0370 - val_accuracy: 0.8049\n",
      "Epoch 4/30\n",
      "3236/3236 [==============================] - 1s 236us/sample - loss: 0.0310 - accuracy: 0.8239 - val_loss: 0.0252 - val_accuracy: 0.8222\n",
      "Epoch 5/30\n",
      "3236/3236 [==============================] - 1s 235us/sample - loss: 0.0205 - accuracy: 0.8900 - val_loss: 0.0180 - val_accuracy: 0.8975\n",
      "Epoch 6/30\n",
      "3236/3236 [==============================] - 1s 286us/sample - loss: 0.0141 - accuracy: 0.9221 - val_loss: 0.0138 - val_accuracy: 0.9198\n",
      "Epoch 7/30\n",
      "3236/3236 [==============================] - 1s 320us/sample - loss: 0.0113 - accuracy: 0.9339 - val_loss: 0.0120 - val_accuracy: 0.9321\n",
      "Epoch 8/30\n",
      "3236/3236 [==============================] - 1s 268us/sample - loss: 0.0095 - accuracy: 0.9450 - val_loss: 0.0103 - val_accuracy: 0.9383\n",
      "Epoch 9/30\n",
      "3236/3236 [==============================] - 1s 312us/sample - loss: 0.0082 - accuracy: 0.9549 - val_loss: 0.0097 - val_accuracy: 0.9358\n",
      "Epoch 10/30\n",
      "3236/3236 [==============================] - 1s 301us/sample - loss: 0.0075 - accuracy: 0.9645 - val_loss: 0.0084 - val_accuracy: 0.9556\n",
      "Epoch 11/30\n",
      "3236/3236 [==============================] - 1s 283us/sample - loss: 0.0069 - accuracy: 0.9669 - val_loss: 0.0080 - val_accuracy: 0.9519\n",
      "Epoch 12/30\n",
      "3236/3236 [==============================] - 1s 281us/sample - loss: 0.0063 - accuracy: 0.9688 - val_loss: 0.0072 - val_accuracy: 0.9605\n",
      "Epoch 13/30\n",
      "3236/3236 [==============================] - 1s 261us/sample - loss: 0.0062 - accuracy: 0.9703 - val_loss: 0.0072 - val_accuracy: 0.9630\n",
      "Epoch 14/30\n",
      "3236/3236 [==============================] - 1s 237us/sample - loss: 0.0056 - accuracy: 0.9731 - val_loss: 0.0066 - val_accuracy: 0.9679\n",
      "Epoch 15/30\n",
      "3236/3236 [==============================] - 1s 235us/sample - loss: 0.0052 - accuracy: 0.9762 - val_loss: 0.0062 - val_accuracy: 0.9654\n",
      "Epoch 16/30\n",
      "3236/3236 [==============================] - 1s 298us/sample - loss: 0.0048 - accuracy: 0.9796 - val_loss: 0.0059 - val_accuracy: 0.9704\n",
      "Epoch 17/30\n",
      "3236/3236 [==============================] - 1s 274us/sample - loss: 0.0044 - accuracy: 0.9815 - val_loss: 0.0055 - val_accuracy: 0.9778\n",
      "Epoch 18/30\n",
      "3236/3236 [==============================] - 1s 263us/sample - loss: 0.0042 - accuracy: 0.9821 - val_loss: 0.0051 - val_accuracy: 0.9728\n",
      "Epoch 19/30\n",
      "3236/3236 [==============================] - 1s 270us/sample - loss: 0.0039 - accuracy: 0.9833 - val_loss: 0.0049 - val_accuracy: 0.9741\n",
      "Epoch 20/30\n",
      "3236/3236 [==============================] - 1s 245us/sample - loss: 0.0035 - accuracy: 0.9873 - val_loss: 0.0049 - val_accuracy: 0.9728\n",
      "Epoch 21/30\n",
      "3236/3236 [==============================] - 1s 238us/sample - loss: 0.0034 - accuracy: 0.9870 - val_loss: 0.0044 - val_accuracy: 0.9802\n",
      "Epoch 22/30\n",
      "3236/3236 [==============================] - 1s 274us/sample - loss: 0.0032 - accuracy: 0.9901 - val_loss: 0.0047 - val_accuracy: 0.9741\n",
      "Epoch 23/30\n",
      "3236/3236 [==============================] - 1s 272us/sample - loss: 0.0035 - accuracy: 0.9858 - val_loss: 0.0046 - val_accuracy: 0.9741\n",
      "Epoch 24/30\n",
      "3236/3236 [==============================] - 1s 321us/sample - loss: 0.0034 - accuracy: 0.9858 - val_loss: 0.0045 - val_accuracy: 0.9790\n",
      "Epoch 25/30\n",
      "3236/3236 [==============================] - 1s 287us/sample - loss: 0.0032 - accuracy: 0.9873 - val_loss: 0.0046 - val_accuracy: 0.9753\n",
      "Epoch 26/30\n",
      "3236/3236 [==============================] - 1s 294us/sample - loss: 0.0030 - accuracy: 0.9864 - val_loss: 0.0042 - val_accuracy: 0.9840\n",
      "Epoch 27/30\n",
      "3236/3236 [==============================] - 1s 293us/sample - loss: 0.0034 - accuracy: 0.9845 - val_loss: 0.0044 - val_accuracy: 0.9753\n",
      "Epoch 28/30\n",
      "3236/3236 [==============================] - 1s 375us/sample - loss: 0.0033 - accuracy: 0.9879 - val_loss: 0.0047 - val_accuracy: 0.9728\n",
      "Epoch 29/30\n",
      "3236/3236 [==============================] - 1s 277us/sample - loss: 0.0034 - accuracy: 0.9864 - val_loss: 0.0049 - val_accuracy: 0.9765\n",
      "Epoch 30/30\n",
      "3236/3236 [==============================] - 1s 296us/sample - loss: 0.0035 - accuracy: 0.9886 - val_loss: 0.0070 - val_accuracy: 0.9580\n"
     ]
    }
   ],
   "source": [
    "model.compile(optimizer=\"adam\", loss='mean_squared_error', metrics=['accuracy'])\n",
    "history = model.fit(xtrain, ytrain, batch_size=500, epochs=30, verbose=True, validation_split=.2)"
   ]
  },
  {
   "cell_type": "code",
   "execution_count": 115,
   "metadata": {},
   "outputs": [
    {
     "data": {
      "text/plain": [
       "(0.0034037067676052795, 0.9799852)"
      ]
     },
     "execution_count": 115,
     "metadata": {},
     "output_type": "execute_result"
    }
   ],
   "source": [
    "#Evaluating over Training Data\n",
    "loss, accuracy  = model.evaluate(xtest, ytest, verbose=False)\n",
    "loss ,accuracy"
   ]
  }
 ],
 "metadata": {
  "kernelspec": {
   "display_name": "Python 3",
   "language": "python",
   "name": "python3"
  },
  "language_info": {
   "codemirror_mode": {
    "name": "ipython",
    "version": 3
   },
   "file_extension": ".py",
   "mimetype": "text/x-python",
   "name": "python",
   "nbconvert_exporter": "python",
   "pygments_lexer": "ipython3",
   "version": "3.6.9"
  }
 },
 "nbformat": 4,
 "nbformat_minor": 2
}
