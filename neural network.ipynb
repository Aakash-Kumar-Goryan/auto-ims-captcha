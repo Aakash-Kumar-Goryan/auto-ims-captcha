{
 "cells": [
  {
   "cell_type": "code",
   "execution_count": 15,
   "metadata": {},
   "outputs": [],
   "source": [
    "import os\n",
    "import cv2\n",
    "import time\n",
    "import numpy as np\n",
    "import pandas as pd\n",
    "import matplotlib.pyplot as plt\n",
    "\n",
    "# from PIL import Image\n",
    "from sklearn.model_selection import train_test_split\n",
    "from keras.layers import (AveragePooling2D, Conv2D, Dense, Dropout, Flatten, Input, MaxPooling2D, ZeroPadding2D) \n",
    "from keras.utils import to_categorical\n",
    "from keras.models import Model, Sequential\n",
    "from sklearn.metrics import accuracy_score"
   ]
  },
  {
   "cell_type": "code",
   "execution_count": 24,
   "metadata": {},
   "outputs": [
    {
     "name": "stdout",
     "output_type": "stream",
     "text": [
      "Processing for digit:  0\n",
      "Processing for digit:  1\n",
      "Processing for digit:  2\n",
      "Processing for digit:  3\n",
      "Processing for digit:  4\n",
      "Processing for digit:  5\n",
      "Processing for digit:  6\n",
      "Processing for digit:  7\n",
      "Processing for digit:  8\n",
      "Processing for digit:  9\n"
     ]
    }
   ],
   "source": [
    "def loadData():\n",
    "    x = []\n",
    "    y = []\n",
    "    for i in os.scandir(\"data\\captcha-digits\"):\n",
    "        if i.is_dir():\n",
    "            print(\"Processing for digit: \",i.name)\n",
    "            for j in os.scandir(i.path):\n",
    "                #print(j.name)\n",
    "                img = cv2.imread(j.path,0)\n",
    "#                 cv2.imshow(\"img\", img)\n",
    "#                 cv2.waitKey(1)\n",
    "#                 img = np.reshape(img, (20*20))\n",
    "                x.append(img)\n",
    "#                 x.append(np.reshape(img, (length, width, -1)))\n",
    "                label = i.name\n",
    "                y.append(int(label))\n",
    "    x = np.array(x)\n",
    "    y = np.array(y)\n",
    "#     cv2.destroyAllWindows()\n",
    "    return x,y\n",
    "        \n",
    "X,Y = loadData()"
   ]
  },
  {
   "cell_type": "code",
   "execution_count": 30,
   "metadata": {},
   "outputs": [
    {
     "data": {
      "text/plain": [
       "<matplotlib.image.AxesImage at 0x29a30ef8828>"
      ]
     },
     "execution_count": 30,
     "metadata": {},
     "output_type": "execute_result"
    },
    {
     "data": {
      "image/png": "[encoded data removed]",
      "text/plain": [
       "<Figure size 432x288 with 1 Axes>"
      ]
     },
     "metadata": {
      "needs_background": "light"
     },
     "output_type": "display_data"
    }
   ],
   "source": [
    "plt.imshow(X[1230])"
   ]
  },
  {
   "cell_type": "code",
   "execution_count": 31,
   "metadata": {},
   "outputs": [
    {
     "name": "stdout",
     "output_type": "stream",
     "text": [
      "(2180, 20, 20) (2180,)\n"
     ]
    }
   ],
   "source": [
    "print(X.shape,Y.shape)"
   ]
  },
  {
   "cell_type": "code",
   "execution_count": 32,
   "metadata": {},
   "outputs": [
    {
     "data": {
      "text/plain": [
       "(2180, 400)"
      ]
     },
     "execution_count": 32,
     "metadata": {},
     "output_type": "execute_result"
    }
   ],
   "source": [
    "# Flatten the images\n",
    "image_vector_size = 20*20\n",
    "X = X.reshape(X.shape[0], image_vector_size)\n",
    "X.shape"
   ]
  },
  {
   "cell_type": "code",
   "execution_count": 33,
   "metadata": {},
   "outputs": [
    {
     "name": "stdout",
     "output_type": "stream",
     "text": [
      "First 5 training lables as one-hot encoded vectors:\n",
      " [[1. 0. 0. 0. 0. 0. 0. 0. 0. 0.]\n",
      " [1. 0. 0. 0. 0. 0. 0. 0. 0. 0.]\n",
      " [1. 0. 0. 0. 0. 0. 0. 0. 0. 0.]\n",
      " [1. 0. 0. 0. 0. 0. 0. 0. 0. 0.]\n",
      " [1. 0. 0. 0. 0. 0. 0. 0. 0. 0.]]\n"
     ]
    }
   ],
   "source": [
    "# Convert to \"one-hot\" vectors using the to_categorical function\n",
    "num_classes = 10\n",
    "Y = to_categorical(Y, num_classes)\n",
    "print(\"First 5 training lables as one-hot encoded vectors:\\n\", Y[:5])"
   ]
  },
  {
   "cell_type": "code",
   "execution_count": 34,
   "metadata": {},
   "outputs": [
    {
     "data": {
      "text/plain": [
       "((1635, 400), (545, 400), (1635, 10), (545, 10))"
      ]
     },
     "execution_count": 34,
     "metadata": {},
     "output_type": "execute_result"
    }
   ],
   "source": [
    "xtrain,xtest,ytrain,ytest = train_test_split(X,yEnc)\n",
    "xtrain.shape,xtest.shape,ytrain.shape,ytest.shape"
   ]
  },
  {
   "cell_type": "code",
   "execution_count": 35,
   "metadata": {},
   "outputs": [
    {
     "name": "stdout",
     "output_type": "stream",
     "text": [
      "Model: \"sequential_1\"\n",
      "_________________________________________________________________\n",
      "Layer (type)                 Output Shape              Param #   \n",
      "=================================================================\n",
      "dense_1 (Dense)              (None, 32)                12832     \n",
      "_________________________________________________________________\n",
      "dense_2 (Dense)              (None, 10)                330       \n",
      "=================================================================\n",
      "Total params: 13,162\n",
      "Trainable params: 13,162\n",
      "Non-trainable params: 0\n",
      "_________________________________________________________________\n"
     ]
    }
   ],
   "source": [
    "input_shape = (400, ) #20*20\n",
    "num_classes = 10 # ten unique digits\n",
    "\n",
    "# The input layer requires the special input_shape parameter which should match\n",
    "# the shape of our training data.\n",
    "model = Sequential([\n",
    "    Dense(units=32, activation='sigmoid', input_shape=input_shape),\n",
    "    Dense(units=num_classes, activation='softmax')\n",
    "])\n",
    "model.summary()"
   ]
  },
  {
   "cell_type": "code",
   "execution_count": 39,
   "metadata": {},
   "outputs": [
    {
     "name": "stdout",
     "output_type": "stream",
     "text": [
      "Train on 1471 samples, validate on 164 samples\n",
      "Epoch 1/15\n",
      "1471/1471 [==============================] - 2s 1ms/step - loss: 2.2102 - accuracy: 0.1468 - val_loss: 2.2450 - val_accuracy: 0.1463\n",
      "Epoch 2/15\n",
      "1471/1471 [==============================] - 2s 1ms/step - loss: 2.2066 - accuracy: 0.1598 - val_loss: 2.2889 - val_accuracy: 0.1463\n",
      "Epoch 3/15\n",
      "1471/1471 [==============================] - 2s 1ms/step - loss: 2.2094 - accuracy: 0.1577 - val_loss: 2.2381 - val_accuracy: 0.1463\n",
      "Epoch 4/15\n",
      "1471/1471 [==============================] - 2s 1ms/step - loss: 2.2079 - accuracy: 0.1584 - val_loss: 2.2638 - val_accuracy: 0.1402\n",
      "Epoch 5/15\n",
      "1471/1471 [==============================] - 2s 1ms/step - loss: 2.2050 - accuracy: 0.1577 - val_loss: 2.2562 - val_accuracy: 0.1159\n",
      "Epoch 6/15\n",
      "1471/1471 [==============================] - 2s 1ms/step - loss: 2.2090 - accuracy: 0.1509 - val_loss: 2.2054 - val_accuracy: 0.1159\n",
      "Epoch 7/15\n",
      "1471/1471 [==============================] - 2s 1ms/step - loss: 2.2064 - accuracy: 0.1536 - val_loss: 2.2020 - val_accuracy: 0.1098\n",
      "Epoch 8/15\n",
      "1471/1471 [==============================] - 2s 1ms/step - loss: 2.2043 - accuracy: 0.1604 - val_loss: 2.2170 - val_accuracy: 0.1463\n",
      "Epoch 9/15\n",
      "1471/1471 [==============================] - 2s 1ms/step - loss: 2.2055 - accuracy: 0.1496 - val_loss: 2.2049 - val_accuracy: 0.1463\n",
      "Epoch 10/15\n",
      "1471/1471 [==============================] - 2s 1ms/step - loss: 2.2028 - accuracy: 0.1652 - val_loss: 2.2009 - val_accuracy: 0.1463\n",
      "Epoch 11/15\n",
      "1471/1471 [==============================] - 2s 1ms/step - loss: 2.2080 - accuracy: 0.1496 - val_loss: 2.2597 - val_accuracy: 0.1463\n",
      "Epoch 12/15\n",
      "1471/1471 [==============================] - 2s 1ms/step - loss: 2.1972 - accuracy: 0.1727 - val_loss: 2.2674 - val_accuracy: 0.1463\n",
      "Epoch 13/15\n",
      "1471/1471 [==============================] - 2s 1ms/step - loss: 2.2030 - accuracy: 0.1543 - val_loss: 2.2182 - val_accuracy: 0.1463\n",
      "Epoch 14/15\n",
      "1471/1471 [==============================] - 2s 1ms/step - loss: 2.1999 - accuracy: 0.1632 - val_loss: 2.2203 - val_accuracy: 0.1463\n",
      "Epoch 15/15\n",
      "1471/1471 [==============================] - 2s 2ms/step - loss: 2.2051 - accuracy: 0.1598 - val_loss: 2.2331 - val_accuracy: 0.1463\n"
     ]
    }
   ],
   "source": [
    "model.compile(optimizer=\"sgd\", loss='categorical_crossentropy', metrics=['accuracy'])\n",
    "history = model.fit(xtrain, ytrain, batch_size=1, epochs=15, verbose=True, validation_split=.1)"
   ]
  },
  {
   "cell_type": "code",
   "execution_count": 48,
   "metadata": {},
   "outputs": [
    {
     "name": "stdout",
     "output_type": "stream",
     "text": [
      "1635/1635 [==============================] - 0s 223us/step\n"
     ]
    },
    {
     "data": {
      "text/plain": [
       "[4.544048624446997, 0.10642202198505402]"
      ]
     },
     "execution_count": 48,
     "metadata": {},
     "output_type": "execute_result"
    }
   ],
   "source": [
    "#Evaluating over Training Data\n",
    "loss, accuracy  = model.evaluate(xtest, y_test, verbose=False)\n",
    "loss ,accuracy"
   ]
  },
  {
   "cell_type": "code",
   "execution_count": 51,
   "metadata": {},
   "outputs": [
    {
     "name": "stdout",
     "output_type": "stream",
     "text": [
      "545/545 [==============================] - 0s 106us/step\n"
     ]
    },
    {
     "data": {
      "text/plain": [
       "[4.580890176055628, 0.10091742873191833]"
      ]
     },
     "execution_count": 51,
     "metadata": {},
     "output_type": "execute_result"
    }
   ],
   "source": [
    "model.evaluate(xtest, ytest)"
   ]
  },
  {
   "cell_type": "code",
   "execution_count": null,
   "metadata": {},
   "outputs": [],
   "source": []
  }
 ],
 "metadata": {
  "kernelspec": {
   "display_name": "Python 3",
   "language": "python",
   "name": "python3"
  },
  "language_info": {
   "codemirror_mode": {
    "name": "ipython",
    "version": 3
   },
   "file_extension": ".py",
   "mimetype": "text/x-python",
   "name": "python",
   "nbconvert_exporter": "python",
   "pygments_lexer": "ipython3",
   "version": "3.6.9"
  }
 },
 "nbformat": 4,
 "nbformat_minor": 2
}
