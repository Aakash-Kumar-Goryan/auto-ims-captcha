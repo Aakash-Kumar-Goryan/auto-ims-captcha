{
 "cells": [
  {
   "cell_type": "code",
   "execution_count": 13,
   "metadata": {},
   "outputs": [],
   "source": [
    "import os\n",
    "import time\n",
    "import cv2\n",
    "import numpy as np\n",
    "from sklearn.model_selection import train_test_split\n",
    "\n",
    "from sklearn.svm import LinearSVC,SVC\n",
    "\n",
    "from sklearn.metrics import accuracy_score"
   ]
  },
  {
   "cell_type": "code",
   "execution_count": 15,
   "metadata": {
    "scrolled": true
   },
   "outputs": [
    {
     "name": "stdout",
     "output_type": "stream",
     "text": [
      "Processing for digit:  0\n",
      "Processing for digit:  1\n",
      "Processing for digit:  2\n",
      "Processing for digit:  3\n",
      "Processing for digit:  4\n",
      "Processing for digit:  5\n",
      "Processing for digit:  6\n",
      "Processing for digit:  7\n",
      "Processing for digit:  8\n",
      "Processing for digit:  9\n"
     ]
    }
   ],
   "source": [
    "def loadData():\n",
    "    x = []\n",
    "    y = []\n",
    "    \n",
    "#     l = os.scandir(\"data\\captcha-digits\")\n",
    "#     print(l)\n",
    "    \n",
    "    for i in os.scandir(\"data\\captcha-digits\"):\n",
    "        if i.is_dir():\n",
    "            print(\"Processing for digit: \",i.name)\n",
    "            for j in os.scandir(i.path):\n",
    "                #print(j.name)\n",
    "                img = cv2.imread(j.path,0)\n",
    "                cv2.imshow(\"img\", img)\n",
    "                cv2.waitKey(1)\n",
    "                img = np.reshape(img, (400))\n",
    "                x.append(img)\n",
    "                label = i.name\n",
    "                y.append(label)\n",
    "    x = np.array(x)\n",
    "    y = np.array(y)\n",
    "    cv2.destroyAllWindows()\n",
    "    return x,y\n",
    "        \n",
    "X,Y = loadData()"
   ]
  },
  {
   "cell_type": "code",
   "execution_count": 19,
   "metadata": {},
   "outputs": [
    {
     "name": "stdout",
     "output_type": "stream",
     "text": [
      "(5395, 400) (5395,)\n"
     ]
    },
    {
     "data": {
      "text/plain": [
       "'2'"
      ]
     },
     "execution_count": 19,
     "metadata": {},
     "output_type": "execute_result"
    }
   ],
   "source": [
    "print(X.shape,Y.shape)\n",
    "\n",
    "Y[1200]"
   ]
  },
  {
   "cell_type": "code",
   "execution_count": 20,
   "metadata": {},
   "outputs": [
    {
     "data": {
      "text/plain": [
       "((4046, 400), (1349, 400), (4046,), (1349,))"
      ]
     },
     "execution_count": 20,
     "metadata": {},
     "output_type": "execute_result"
    }
   ],
   "source": [
    "xtrain,xtest,ytrain,ytest = train_test_split(X,Y)\n",
    "\n",
    "xtrain.shape,xtest.shape,ytrain.shape,ytest.shape"
   ]
  },
  {
   "cell_type": "code",
   "execution_count": 39,
   "metadata": {},
   "outputs": [
    {
     "name": "stdout",
     "output_type": "stream",
     "text": [
      "[LibSVM]"
     ]
    },
    {
     "data": {
      "text/plain": [
       "SVC(C=1000, break_ties=False, cache_size=200, class_weight=None, coef0=0.0,\n",
       "    decision_function_shape='ovr', degree=3, gamma='scale', kernel='rbf',\n",
       "    max_iter=-1, probability=False, random_state=None, shrinking=True,\n",
       "    tol=0.001, verbose=1)"
      ]
     },
     "execution_count": 39,
     "metadata": {},
     "output_type": "execute_result"
    }
   ],
   "source": [
    "clf = SVC(C=1000, verbose=1)\n",
    "clf.fit(xtrain,ytrain)"
   ]
  },
  {
   "cell_type": "code",
   "execution_count": 40,
   "metadata": {},
   "outputs": [
    {
     "data": {
      "text/plain": [
       "0.9985174203113417"
      ]
     },
     "execution_count": 40,
     "metadata": {},
     "output_type": "execute_result"
    }
   ],
   "source": [
    "ypred = clf.predict(xtest)\n",
    "accuracy_score(ypred,ytest)"
   ]
  },
  {
   "cell_type": "code",
   "execution_count": 24,
   "metadata": {},
   "outputs": [],
   "source": [
    "import pickle \n",
    "list_pickle_path = 'list_pickle.pkl'\n",
    "\n",
    "# Create an variable to pickle and open it in write mode\n",
    "list_pickle = open(\"model\", 'wb')\n",
    "pickle.dump(clf, list_pickle)\n",
    "list_pickle.close()"
   ]
  },
  {
   "cell_type": "code",
   "execution_count": null,
   "metadata": {},
   "outputs": [],
   "source": []
  }
 ],
 "metadata": {
  "kernelspec": {
   "display_name": "Python 3",
   "language": "python",
   "name": "python3"
  },
  "language_info": {
   "codemirror_mode": {
    "name": "ipython",
    "version": 3
   },
   "file_extension": ".py",
   "mimetype": "text/x-python",
   "name": "python",
   "nbconvert_exporter": "python",
   "pygments_lexer": "ipython3",
   "version": "3.6.9"
  }
 },
 "nbformat": 4,
 "nbformat_minor": 2
}
