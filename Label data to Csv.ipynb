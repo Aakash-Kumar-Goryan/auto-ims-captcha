{
 "cells": [
  {
   "cell_type": "markdown",
   "metadata": {},
   "source": [
    "#### Code to create Csv file of dataset with less accurate model"
   ]
  },
  {
   "cell_type": "code",
   "execution_count": 1,
   "metadata": {},
   "outputs": [],
   "source": [
    "import os\n",
    "import cv2\n",
    "import numpy as np\n",
    "import pandas as pd\n",
    "import pickle"
   ]
  },
  {
   "cell_type": "code",
   "execution_count": 2,
   "metadata": {},
   "outputs": [],
   "source": [
    "# Loading SVM model\n",
    "list_unpickle = open(\"model\", 'rb')\n",
    "clf = pickle.load(list_unpickle)"
   ]
  },
  {
   "cell_type": "code",
   "execution_count": 3,
   "metadata": {},
   "outputs": [],
   "source": [
    "def predictSingleImage(img): \n",
    "    debug = not True\n",
    "    kernel = np.ones((2,2),np.uint8)\n",
    "    bordersize = 10\n",
    "    kernel2 = np.ones((12,12),np.float32)/225\n",
    "    # Basic Processing\n",
    "    resize = cv2.resize(img, (400,200))\n",
    "    border = cv2.copyMakeBorder(\n",
    "    resize,\n",
    "    top=bordersize,\n",
    "    bottom=bordersize,\n",
    "    left=bordersize,\n",
    "    right=bordersize,\n",
    "    borderType=cv2.BORDER_CONSTANT,\n",
    "    value=[255, 255,255]\n",
    "    )\n",
    "    gray = cv2.cvtColor(border,cv2.COLOR_BGR2GRAY)\n",
    "    smoothed = cv2.filter2D(gray,-1,kernel2)\n",
    "    retval,thresh = cv2.threshold(smoothed, 30, 255, cv2.THRESH_BINARY)\n",
    "    erode = cv2.erode(thresh,kernel,iterations = 2)\n",
    "    if debug:\n",
    "        cv2.imshow(\"Gray\", gray)\n",
    "        cv2.waitKey(0)\n",
    "        cv2.imshow(\"Smooth\", smoothed)\n",
    "        cv2.waitKey(0)\n",
    "        cv2.imshow(\"Thresholding\", thresh)\n",
    "        cv2.waitKey(0)\n",
    "        cv2.imshow(\"Dilate\", dialate)\n",
    "        cv2.waitKey(0)\n",
    "    final = erode\n",
    "    # Find Contours\n",
    "    contourImg = np.copy(final)\n",
    "    _, contours, hie = cv2.findContours(thresh, cv2.RETR_TREE, cv2.CHAIN_APPROX_NONE)\n",
    "    hie = hie[0]\n",
    "    goodContours = []\n",
    "    ind = 0\n",
    "    for c in contours:\n",
    "        testimg = np.copy(contourImg)\n",
    "        rect = cv2.boundingRect(c)\n",
    "        area = cv2.contourArea(c)\n",
    "        x,y,w,h = rect\n",
    "        cv2.rectangle(testimg,(x,y),(x+w,y+h),(0,255,0),2)\n",
    "        cv2.waitKey(1)\n",
    "        parent = hie[ind][3]\n",
    "        ind+=1\n",
    "        if(parent == 0):\n",
    "            goodContours.append(c)\n",
    "    cv2.destroyAllWindows()\n",
    "    rects = []\n",
    "    for c in goodContours:\n",
    "        rect = cv2.boundingRect(c)\n",
    "        area = cv2.contourArea(c)\n",
    "        x,y,w,h = rect\n",
    "        if(w > 150):\n",
    "            x2 = x + int(w/3)\n",
    "            x3 = x2 + int(w/3)\n",
    "            rects.append((x2,y,int(w/3),h))\n",
    "            rects.append((x3,y,int(w/3),h))\n",
    "            rects.append((x,y,int(w/3),h))\n",
    "            cv2.rectangle(contourImg,(x2,y),(x2+int(w/3),y+h),(0,255,0),2)\n",
    "            cv2.rectangle(contourImg,(x3,y),(x3+int(w/3),y+h),(0,255,0),2)\n",
    "            cv2.rectangle(contourImg,(x,y),(x+int(w/3),y+h),(0,255,0),2)\n",
    "        elif (w > 65):\n",
    "            x2 = x + int(w/2)\n",
    "            rects.append((x2,y,int(w/2),h))\n",
    "            rects.append((x,y,int(w/2),h))\n",
    "            cv2.rectangle(contourImg,(x2,y),(x2+int(w/2),y+h),(0,255,0),2)\n",
    "            cv2.rectangle(contourImg,(x,y),(x+int(w/2),y+h),(0,255,0),2)\n",
    "        else:\n",
    "            rects.append((x,y,w,h))\n",
    "            cv2.rectangle(contourImg,(x,y),(x+w,y+h),(0,255,0),2)\n",
    "    rects = sorted(rects)\n",
    "    if (len(rects) != 5):\n",
    "        return\n",
    "    ans = ''\n",
    "    i = 0\n",
    "    for (x,y,w,h) in rects:\n",
    "        roi = contourImg[y:y+h,x:x+w]\n",
    "        display = cv2.resize(roi, (120,120))\n",
    "        roi = cv2.resize(roi, (20,20))\n",
    "#         print(roi.shape) \n",
    "        pred = clf.predict(np.reshape(roi,(1,400)))\n",
    "        ans+=pred[0]\n",
    "#         print('p: ',pred)\n",
    "        cv2.waitKey(1)\n",
    "        cv2.destroyAllWindows()\n",
    "    cv2.destroyAllWindows()\n",
    "    return ans"
   ]
  },
  {
   "cell_type": "code",
   "execution_count": 4,
   "metadata": {},
   "outputs": [
    {
     "name": "stdout",
     "output_type": "stream",
     "text": [
      "Prediction  1092\n",
      "Images  1092\n"
     ]
    }
   ],
   "source": [
    "path = os.getcwd()\n",
    "names = os.listdir(os.path.join(path,'digitdata'))\n",
    "names.sort()\n",
    "os.path.join('digitdata',names[0])\n",
    "prediction = []\n",
    "for imgfile in names:\n",
    "    prediction.append(predictSingleImage(cv2.imread(os.path.join('digitdata',imgfile))))\n",
    "\n",
    "print('Prediction ',len(prediction))\n",
    "print('Images ',len(names))\n",
    "df = pd.DataFrame({'image_names': names, 'value': prediction})\n",
    "df.to_csv('CAP01.csv', index=False, encoding='utf-8')"
   ]
  }
 ],
 "metadata": {
  "kernelspec": {
   "display_name": "Python 3",
   "language": "python",
   "name": "python3"
  },
  "language_info": {
   "codemirror_mode": {
    "name": "ipython",
    "version": 3
   },
   "file_extension": ".py",
   "mimetype": "text/x-python",
   "name": "python",
   "nbconvert_exporter": "python",
   "pygments_lexer": "ipython3",
   "version": "3.6.9"
  }
 },
 "nbformat": 4,
 "nbformat_minor": 2
}
